{
 "metadata": {
  "language_info": {
   "codemirror_mode": {
    "name": "ipython",
    "version": 3
   },
   "file_extension": ".py",
   "mimetype": "text/x-python",
   "name": "python",
   "nbconvert_exporter": "python",
   "pygments_lexer": "ipython3",
   "version": "3.7.9-final"
  },
  "orig_nbformat": 2,
  "kernelspec": {
   "name": "python3",
   "display_name": "Python 3",
   "language": "python"
  }
 },
 "nbformat": 4,
 "nbformat_minor": 2,
 "cells": [
  {
   "cell_type": "code",
   "execution_count": 16,
   "metadata": {},
   "outputs": [],
   "source": [
    "import pandas as pd\n",
    "\n",
    "from sklearn.utils import shuffle\n",
    "from sklearn.model_selection import train_test_split\n",
    "from sklearn.metrics import accuracy_score"
   ]
  },
  {
   "cell_type": "code",
   "execution_count": 17,
   "metadata": {},
   "outputs": [],
   "source": [
    "data = pd.read_csv('../data/german-credit.data')"
   ]
  },
  {
   "source": [
    "# since sklearn doesn't support classified data, this line splits classification into columns \n",
    "\n",
    "categorized = pd.get_dummies(data, columns=['checking_account_status', 'credit_history', 'purpose', 'savings_account_status', 'employment_years', 'personal_status', 'guarantors', 'property', 'installment_plans', 'housing', 'job', 'telephone', 'foreign_worker'])"
   ],
   "cell_type": "code",
   "metadata": {},
   "execution_count": 18,
   "outputs": []
  },
  {
   "cell_type": "code",
   "execution_count": 19,
   "metadata": {},
   "outputs": [],
   "source": [
    "train, test = train_test_split(categorized, test_size=0.2)\n",
    "\n",
    "attributes = train.loc[:, train.columns != 'credit_status']\n",
    "credit_status = train.loc[:,['credit_status']]\n",
    "\n",
    "attributes_test = test.loc[:, train.columns != 'credit_status']\n",
    "credit_status_test = test.loc[:,['credit_status']]"
   ]
  },
  {
   "cell_type": "code",
   "execution_count": 20,
   "metadata": {},
   "outputs": [
    {
     "output_type": "stream",
     "name": "stdout",
     "text": [
      "0.675\n"
     ]
    }
   ],
   "source": [
    "from sklearn.tree import DecisionTreeClassifier\n",
    "\n",
    "dt3 = DecisionTreeClassifier(min_samples_split = 3)\n",
    "dt3 = dt3.fit(attributes, credit_status)\n",
    "pred = dt3.predict(attributes_test)\n",
    "\n",
    "score = accuracy_score(pred.round(), credit_status_test)\n",
    "print(score)"
   ]
  },
  {
   "cell_type": "code",
   "execution_count": 21,
   "metadata": {},
   "outputs": [
    {
     "output_type": "stream",
     "name": "stdout",
     "text": [
      "0.755\n"
     ]
    }
   ],
   "source": [
    "from sklearn.linear_model import LogisticRegression, LinearRegression\n",
    "\n",
    "linear_regression = LinearRegression()\n",
    "linear_regression.fit(attributes, credit_status)\n",
    "pred = linear_regression.predict(attributes_test)\n",
    "\n",
    "score = accuracy_score(pred.round(), credit_status_test)\n",
    "print(score)"
   ]
  },
  {
   "cell_type": "code",
   "execution_count": 22,
   "metadata": {},
   "outputs": [
    {
     "output_type": "stream",
     "name": "stdout",
     "text": [
      "0.695\n"
     ]
    }
   ],
   "source": [
    "from sklearn.naive_bayes import GaussianNB\n",
    "\n",
    "NBC = GaussianNB()\n",
    "NBC.fit(attributes, credit_status)\n",
    "r = NBC.predict(attributes_test)\n",
    "\n",
    "score = accuracy_score(r.round(), credit_status_test)\n",
    "print(score)"
   ]
  },
  {
   "cell_type": "code",
   "execution_count": 23,
   "metadata": {},
   "outputs": [
    {
     "output_type": "stream",
     "name": "stdout",
     "text": [
      "0.745\n"
     ]
    }
   ],
   "source": [
    "from sklearn.linear_model import LogisticRegression\n",
    "\n",
    "logistic_regression = LogisticRegression(n_jobs=-1, max_iter=20000)\n",
    "logistic_regression.fit(attributes, credit_status)\n",
    "r = logistic_regression.predict(attributes_test)\n",
    "\n",
    "score = accuracy_score(r.round(), credit_status_test)\n",
    "print(score)"
   ]
  }
 ]
}